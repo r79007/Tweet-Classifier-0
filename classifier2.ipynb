{
 "cells": [
  {
   "cell_type": "code",
   "execution_count": 2,
   "metadata": {
    "collapsed": true,
    "pycharm": {
     "name": "#%%\n"
    }
   },
   "outputs": [
    {
     "name": "stderr",
     "output_type": "stream",
     "text": [
      "2022-07-06 14:14:30.217004: W tensorflow/stream_executor/platform/default/dso_loader.cc:64] Could not load dynamic library 'libcudart.so.11.0'; dlerror: libcudart.so.11.0: cannot open shared object file: No such file or directory\n",
      "2022-07-06 14:14:30.217028: I tensorflow/stream_executor/cuda/cudart_stub.cc:29] Ignore above cudart dlerror if you do not have a GPU set up on your machine.\n"
     ]
    }
   ],
   "source": [
    "import tensorflow as tf\n",
    "import tensorflow_hub as hub\n",
    "import tensorflow_text as text"
   ]
  },
  {
   "cell_type": "code",
   "execution_count": 3,
   "outputs": [
    {
     "data": {
      "text/plain": "   611857364396965889  \\\n0  614484565059596288   \n1  614746522043973632   \n2  614877582664835073   \n3  611932373039644672   \n4  611570404268883969   \n\n  @aandraous @britishmuseum @AndrewsAntonio Merci pour le partage! @openwinemap  \\\n0  Dorian Gray with Rainbow Scarf #LoveWins (from...                              \n1  @SelectShowcase @Tate_StIves ... Replace with ...                              \n2  @Sofabsports thank you for following me back. ...                              \n3  @britishmuseum @TudorHistory What a beautiful ...                              \n4  @NationalGallery @ThePoldarkian I have always ...                              \n\n  nocode  \n0  happy  \n1  happy  \n2  happy  \n3  happy  \n4  happy  ",
      "text/html": "<div>\n<style scoped>\n    .dataframe tbody tr th:only-of-type {\n        vertical-align: middle;\n    }\n\n    .dataframe tbody tr th {\n        vertical-align: top;\n    }\n\n    .dataframe thead th {\n        text-align: right;\n    }\n</style>\n<table border=\"1\" class=\"dataframe\">\n  <thead>\n    <tr style=\"text-align: right;\">\n      <th></th>\n      <th>611857364396965889</th>\n      <th>@aandraous @britishmuseum @AndrewsAntonio Merci pour le partage! @openwinemap</th>\n      <th>nocode</th>\n    </tr>\n  </thead>\n  <tbody>\n    <tr>\n      <th>0</th>\n      <td>614484565059596288</td>\n      <td>Dorian Gray with Rainbow Scarf #LoveWins (from...</td>\n      <td>happy</td>\n    </tr>\n    <tr>\n      <th>1</th>\n      <td>614746522043973632</td>\n      <td>@SelectShowcase @Tate_StIves ... Replace with ...</td>\n      <td>happy</td>\n    </tr>\n    <tr>\n      <th>2</th>\n      <td>614877582664835073</td>\n      <td>@Sofabsports thank you for following me back. ...</td>\n      <td>happy</td>\n    </tr>\n    <tr>\n      <th>3</th>\n      <td>611932373039644672</td>\n      <td>@britishmuseum @TudorHistory What a beautiful ...</td>\n      <td>happy</td>\n    </tr>\n    <tr>\n      <th>4</th>\n      <td>611570404268883969</td>\n      <td>@NationalGallery @ThePoldarkian I have always ...</td>\n      <td>happy</td>\n    </tr>\n  </tbody>\n</table>\n</div>"
     },
     "execution_count": 3,
     "metadata": {},
     "output_type": "execute_result"
    }
   ],
   "source": [
    "import pandas as pd\n",
    "\n",
    "df = pd.read_csv(\"annotationsfinal.csv\")\n",
    "df.head(5)"
   ],
   "metadata": {
    "collapsed": false,
    "pycharm": {
     "name": "#%%\n"
    }
   }
  },
  {
   "cell_type": "code",
   "execution_count": 4,
   "outputs": [],
   "source": [
    "df.columns = ['random', 'Tweet', 'Sentiment']"
   ],
   "metadata": {
    "collapsed": false,
    "pycharm": {
     "name": "#%%\n"
    }
   }
  },
  {
   "cell_type": "code",
   "execution_count": 5,
   "outputs": [
    {
     "data": {
      "text/plain": "                   random                                            \\\n                    count          mean           std           min   \nSentiment                                                             \nangry                57.0  6.119109e+17  1.410195e+15  6.104118e+17   \ndisgust               6.0  6.130681e+17  1.715073e+15  6.107624e+17   \ndisgust|angry         7.0  6.124351e+17  1.593844e+15  6.107596e+17   \nhappy              1137.0  6.130342e+17  3.132433e+15  5.210143e+17   \nhappy|sad             9.0  6.136165e+17  1.567929e+15  6.116190e+17   \nhappy|surprise       11.0  6.130532e+17  1.567604e+15  6.105684e+17   \nnocode             1571.0  6.127426e+17  6.360210e+15  3.871909e+17   \nnot-relevant        214.0  6.127273e+17  1.424607e+15  6.083137e+17   \nsad                  32.0  6.131118e+17  1.429148e+15  6.104965e+17   \nsad|angry             2.0  6.143755e+17  1.000598e+15  6.136680e+17   \nsad|disgust           2.0  6.125822e+17  3.043721e+15  6.104299e+17   \nsad|disgust|angry     1.0  6.129109e+17           NaN  6.129109e+17   \nsurprise             35.0  6.131260e+17  1.821907e+15  6.085875e+17   \n\n                                                                           \n                            25%           50%           75%           max  \nSentiment                                                                  \nangry              6.107477e+17  6.114579e+17  6.133064e+17  6.144741e+17  \ndisgust            6.117703e+17  6.137034e+17  6.140144e+17  6.149955e+17  \ndisgust|angry      6.111874e+17  6.123081e+17  6.131752e+17  6.152529e+17  \nhappy              6.118554e+17  6.132677e+17  6.144167e+17  6.155952e+17  \nhappy|sad          6.121973e+17  6.129931e+17  6.150997e+17  6.154772e+17  \nhappy|surprise     6.120040e+17  6.126685e+17  6.144418e+17  6.152539e+17  \nnocode             6.115891e+17  6.129786e+17  6.141586e+17  6.155956e+17  \nnot-relevant       6.116094e+17  6.129711e+17  6.137050e+17  6.155779e+17  \nsad                6.118744e+17  6.130778e+17  6.144717e+17  6.151083e+17  \nsad|angry          6.140217e+17  6.143755e+17  6.147293e+17  6.150830e+17  \nsad|disgust        6.115060e+17  6.125822e+17  6.136583e+17  6.147344e+17  \nsad|disgust|angry  6.129109e+17  6.129109e+17  6.129109e+17  6.129109e+17  \nsurprise           6.115374e+17  6.133116e+17  6.146652e+17  6.155346e+17  ",
      "text/html": "<div>\n<style scoped>\n    .dataframe tbody tr th:only-of-type {\n        vertical-align: middle;\n    }\n\n    .dataframe tbody tr th {\n        vertical-align: top;\n    }\n\n    .dataframe thead tr th {\n        text-align: left;\n    }\n\n    .dataframe thead tr:last-of-type th {\n        text-align: right;\n    }\n</style>\n<table border=\"1\" class=\"dataframe\">\n  <thead>\n    <tr>\n      <th></th>\n      <th colspan=\"8\" halign=\"left\">random</th>\n    </tr>\n    <tr>\n      <th></th>\n      <th>count</th>\n      <th>mean</th>\n      <th>std</th>\n      <th>min</th>\n      <th>25%</th>\n      <th>50%</th>\n      <th>75%</th>\n      <th>max</th>\n    </tr>\n    <tr>\n      <th>Sentiment</th>\n      <th></th>\n      <th></th>\n      <th></th>\n      <th></th>\n      <th></th>\n      <th></th>\n      <th></th>\n      <th></th>\n    </tr>\n  </thead>\n  <tbody>\n    <tr>\n      <th>angry</th>\n      <td>57.0</td>\n      <td>6.119109e+17</td>\n      <td>1.410195e+15</td>\n      <td>6.104118e+17</td>\n      <td>6.107477e+17</td>\n      <td>6.114579e+17</td>\n      <td>6.133064e+17</td>\n      <td>6.144741e+17</td>\n    </tr>\n    <tr>\n      <th>disgust</th>\n      <td>6.0</td>\n      <td>6.130681e+17</td>\n      <td>1.715073e+15</td>\n      <td>6.107624e+17</td>\n      <td>6.117703e+17</td>\n      <td>6.137034e+17</td>\n      <td>6.140144e+17</td>\n      <td>6.149955e+17</td>\n    </tr>\n    <tr>\n      <th>disgust|angry</th>\n      <td>7.0</td>\n      <td>6.124351e+17</td>\n      <td>1.593844e+15</td>\n      <td>6.107596e+17</td>\n      <td>6.111874e+17</td>\n      <td>6.123081e+17</td>\n      <td>6.131752e+17</td>\n      <td>6.152529e+17</td>\n    </tr>\n    <tr>\n      <th>happy</th>\n      <td>1137.0</td>\n      <td>6.130342e+17</td>\n      <td>3.132433e+15</td>\n      <td>5.210143e+17</td>\n      <td>6.118554e+17</td>\n      <td>6.132677e+17</td>\n      <td>6.144167e+17</td>\n      <td>6.155952e+17</td>\n    </tr>\n    <tr>\n      <th>happy|sad</th>\n      <td>9.0</td>\n      <td>6.136165e+17</td>\n      <td>1.567929e+15</td>\n      <td>6.116190e+17</td>\n      <td>6.121973e+17</td>\n      <td>6.129931e+17</td>\n      <td>6.150997e+17</td>\n      <td>6.154772e+17</td>\n    </tr>\n    <tr>\n      <th>happy|surprise</th>\n      <td>11.0</td>\n      <td>6.130532e+17</td>\n      <td>1.567604e+15</td>\n      <td>6.105684e+17</td>\n      <td>6.120040e+17</td>\n      <td>6.126685e+17</td>\n      <td>6.144418e+17</td>\n      <td>6.152539e+17</td>\n    </tr>\n    <tr>\n      <th>nocode</th>\n      <td>1571.0</td>\n      <td>6.127426e+17</td>\n      <td>6.360210e+15</td>\n      <td>3.871909e+17</td>\n      <td>6.115891e+17</td>\n      <td>6.129786e+17</td>\n      <td>6.141586e+17</td>\n      <td>6.155956e+17</td>\n    </tr>\n    <tr>\n      <th>not-relevant</th>\n      <td>214.0</td>\n      <td>6.127273e+17</td>\n      <td>1.424607e+15</td>\n      <td>6.083137e+17</td>\n      <td>6.116094e+17</td>\n      <td>6.129711e+17</td>\n      <td>6.137050e+17</td>\n      <td>6.155779e+17</td>\n    </tr>\n    <tr>\n      <th>sad</th>\n      <td>32.0</td>\n      <td>6.131118e+17</td>\n      <td>1.429148e+15</td>\n      <td>6.104965e+17</td>\n      <td>6.118744e+17</td>\n      <td>6.130778e+17</td>\n      <td>6.144717e+17</td>\n      <td>6.151083e+17</td>\n    </tr>\n    <tr>\n      <th>sad|angry</th>\n      <td>2.0</td>\n      <td>6.143755e+17</td>\n      <td>1.000598e+15</td>\n      <td>6.136680e+17</td>\n      <td>6.140217e+17</td>\n      <td>6.143755e+17</td>\n      <td>6.147293e+17</td>\n      <td>6.150830e+17</td>\n    </tr>\n    <tr>\n      <th>sad|disgust</th>\n      <td>2.0</td>\n      <td>6.125822e+17</td>\n      <td>3.043721e+15</td>\n      <td>6.104299e+17</td>\n      <td>6.115060e+17</td>\n      <td>6.125822e+17</td>\n      <td>6.136583e+17</td>\n      <td>6.147344e+17</td>\n    </tr>\n    <tr>\n      <th>sad|disgust|angry</th>\n      <td>1.0</td>\n      <td>6.129109e+17</td>\n      <td>NaN</td>\n      <td>6.129109e+17</td>\n      <td>6.129109e+17</td>\n      <td>6.129109e+17</td>\n      <td>6.129109e+17</td>\n      <td>6.129109e+17</td>\n    </tr>\n    <tr>\n      <th>surprise</th>\n      <td>35.0</td>\n      <td>6.131260e+17</td>\n      <td>1.821907e+15</td>\n      <td>6.085875e+17</td>\n      <td>6.115374e+17</td>\n      <td>6.133116e+17</td>\n      <td>6.146652e+17</td>\n      <td>6.155346e+17</td>\n    </tr>\n  </tbody>\n</table>\n</div>"
     },
     "execution_count": 5,
     "metadata": {},
     "output_type": "execute_result"
    }
   ],
   "source": [
    "df.groupby('Sentiment').describe()"
   ],
   "metadata": {
    "collapsed": false,
    "pycharm": {
     "name": "#%%\n"
    }
   }
  },
  {
   "cell_type": "code",
   "execution_count": 6,
   "outputs": [],
   "source": [
    "df=df.drop(['random'], axis=1)"
   ],
   "metadata": {
    "collapsed": false,
    "pycharm": {
     "name": "#%%\n"
    }
   }
  },
  {
   "cell_type": "code",
   "execution_count": 7,
   "outputs": [],
   "source": [
    "df=df[df.Sentiment!='nocode']"
   ],
   "metadata": {
    "collapsed": false,
    "pycharm": {
     "name": "#%%\n"
    }
   }
  },
  {
   "cell_type": "code",
   "execution_count": 8,
   "outputs": [
    {
     "data": {
      "text/plain": "                                               Tweet Sentiment\n0  Dorian Gray with Rainbow Scarf #LoveWins (from...     happy\n1  @SelectShowcase @Tate_StIves ... Replace with ...     happy\n2  @Sofabsports thank you for following me back. ...     happy\n3  @britishmuseum @TudorHistory What a beautiful ...     happy\n4  @NationalGallery @ThePoldarkian I have always ...     happy",
      "text/html": "<div>\n<style scoped>\n    .dataframe tbody tr th:only-of-type {\n        vertical-align: middle;\n    }\n\n    .dataframe tbody tr th {\n        vertical-align: top;\n    }\n\n    .dataframe thead th {\n        text-align: right;\n    }\n</style>\n<table border=\"1\" class=\"dataframe\">\n  <thead>\n    <tr style=\"text-align: right;\">\n      <th></th>\n      <th>Tweet</th>\n      <th>Sentiment</th>\n    </tr>\n  </thead>\n  <tbody>\n    <tr>\n      <th>0</th>\n      <td>Dorian Gray with Rainbow Scarf #LoveWins (from...</td>\n      <td>happy</td>\n    </tr>\n    <tr>\n      <th>1</th>\n      <td>@SelectShowcase @Tate_StIves ... Replace with ...</td>\n      <td>happy</td>\n    </tr>\n    <tr>\n      <th>2</th>\n      <td>@Sofabsports thank you for following me back. ...</td>\n      <td>happy</td>\n    </tr>\n    <tr>\n      <th>3</th>\n      <td>@britishmuseum @TudorHistory What a beautiful ...</td>\n      <td>happy</td>\n    </tr>\n    <tr>\n      <th>4</th>\n      <td>@NationalGallery @ThePoldarkian I have always ...</td>\n      <td>happy</td>\n    </tr>\n  </tbody>\n</table>\n</div>"
     },
     "execution_count": 8,
     "metadata": {},
     "output_type": "execute_result"
    }
   ],
   "source": [
    "df.head()"
   ],
   "metadata": {
    "collapsed": false,
    "pycharm": {
     "name": "#%%\n"
    }
   }
  },
  {
   "cell_type": "code",
   "execution_count": 9,
   "outputs": [],
   "source": [
    "#Down Sampling\n",
    "\n",
    "non_happy_df=df[df[\"Sentiment\"] != \"happy\"]\n",
    "happy_df=df[df[\"Sentiment\"] == \"happy\"].iloc[:non_happy_df.shape[0]]"
   ],
   "metadata": {
    "collapsed": false,
    "pycharm": {
     "name": "#%%\n"
    }
   }
  },
  {
   "cell_type": "code",
   "execution_count": 10,
   "outputs": [],
   "source": [
    "df = pd.concat([happy_df, non_happy_df])"
   ],
   "metadata": {
    "collapsed": false,
    "pycharm": {
     "name": "#%%\n"
    }
   }
  },
  {
   "cell_type": "code",
   "execution_count": 11,
   "outputs": [
    {
     "data": {
      "text/plain": "                                               Tweet Sentiment\n0  Dorian Gray with Rainbow Scarf #LoveWins (from...     happy\n1  @SelectShowcase @Tate_StIves ... Replace with ...     happy\n2  @Sofabsports thank you for following me back. ...     happy\n3  @britishmuseum @TudorHistory What a beautiful ...     happy\n4  @NationalGallery @ThePoldarkian I have always ...     happy",
      "text/html": "<div>\n<style scoped>\n    .dataframe tbody tr th:only-of-type {\n        vertical-align: middle;\n    }\n\n    .dataframe tbody tr th {\n        vertical-align: top;\n    }\n\n    .dataframe thead th {\n        text-align: right;\n    }\n</style>\n<table border=\"1\" class=\"dataframe\">\n  <thead>\n    <tr style=\"text-align: right;\">\n      <th></th>\n      <th>Tweet</th>\n      <th>Sentiment</th>\n    </tr>\n  </thead>\n  <tbody>\n    <tr>\n      <th>0</th>\n      <td>Dorian Gray with Rainbow Scarf #LoveWins (from...</td>\n      <td>happy</td>\n    </tr>\n    <tr>\n      <th>1</th>\n      <td>@SelectShowcase @Tate_StIves ... Replace with ...</td>\n      <td>happy</td>\n    </tr>\n    <tr>\n      <th>2</th>\n      <td>@Sofabsports thank you for following me back. ...</td>\n      <td>happy</td>\n    </tr>\n    <tr>\n      <th>3</th>\n      <td>@britishmuseum @TudorHistory What a beautiful ...</td>\n      <td>happy</td>\n    </tr>\n    <tr>\n      <th>4</th>\n      <td>@NationalGallery @ThePoldarkian I have always ...</td>\n      <td>happy</td>\n    </tr>\n  </tbody>\n</table>\n</div>"
     },
     "execution_count": 11,
     "metadata": {},
     "output_type": "execute_result"
    }
   ],
   "source": [
    "df.head()"
   ],
   "metadata": {
    "collapsed": false,
    "pycharm": {
     "name": "#%%\n"
    }
   }
  },
  {
   "cell_type": "code",
   "execution_count": 12,
   "outputs": [
    {
     "data": {
      "text/plain": "(752, 2)"
     },
     "execution_count": 12,
     "metadata": {},
     "output_type": "execute_result"
    }
   ],
   "source": [
    "df.shape"
   ],
   "metadata": {
    "collapsed": false,
    "pycharm": {
     "name": "#%%\n"
    }
   }
  },
  {
   "cell_type": "code",
   "execution_count": 13,
   "outputs": [],
   "source": [
    "from sklearn.preprocessing import LabelEncoder\n",
    "\n",
    "encoder = LabelEncoder()"
   ],
   "metadata": {
    "collapsed": false,
    "pycharm": {
     "name": "#%%\n"
    }
   }
  },
  {
   "cell_type": "code",
   "execution_count": 14,
   "outputs": [],
   "source": [
    "df['target']=encoder.fit_transform(df['Sentiment'])"
   ],
   "metadata": {
    "collapsed": false,
    "pycharm": {
     "name": "#%%\n"
    }
   }
  },
  {
   "cell_type": "code",
   "execution_count": 15,
   "outputs": [
    {
     "data": {
      "text/plain": "                                               Tweet Sentiment  target\n0  Dorian Gray with Rainbow Scarf #LoveWins (from...     happy       3\n1  @SelectShowcase @Tate_StIves ... Replace with ...     happy       3\n2  @Sofabsports thank you for following me back. ...     happy       3\n3  @britishmuseum @TudorHistory What a beautiful ...     happy       3\n4  @NationalGallery @ThePoldarkian I have always ...     happy       3",
      "text/html": "<div>\n<style scoped>\n    .dataframe tbody tr th:only-of-type {\n        vertical-align: middle;\n    }\n\n    .dataframe tbody tr th {\n        vertical-align: top;\n    }\n\n    .dataframe thead th {\n        text-align: right;\n    }\n</style>\n<table border=\"1\" class=\"dataframe\">\n  <thead>\n    <tr style=\"text-align: right;\">\n      <th></th>\n      <th>Tweet</th>\n      <th>Sentiment</th>\n      <th>target</th>\n    </tr>\n  </thead>\n  <tbody>\n    <tr>\n      <th>0</th>\n      <td>Dorian Gray with Rainbow Scarf #LoveWins (from...</td>\n      <td>happy</td>\n      <td>3</td>\n    </tr>\n    <tr>\n      <th>1</th>\n      <td>@SelectShowcase @Tate_StIves ... Replace with ...</td>\n      <td>happy</td>\n      <td>3</td>\n    </tr>\n    <tr>\n      <th>2</th>\n      <td>@Sofabsports thank you for following me back. ...</td>\n      <td>happy</td>\n      <td>3</td>\n    </tr>\n    <tr>\n      <th>3</th>\n      <td>@britishmuseum @TudorHistory What a beautiful ...</td>\n      <td>happy</td>\n      <td>3</td>\n    </tr>\n    <tr>\n      <th>4</th>\n      <td>@NationalGallery @ThePoldarkian I have always ...</td>\n      <td>happy</td>\n      <td>3</td>\n    </tr>\n  </tbody>\n</table>\n</div>"
     },
     "execution_count": 15,
     "metadata": {},
     "output_type": "execute_result"
    }
   ],
   "source": [
    "df.head()"
   ],
   "metadata": {
    "collapsed": false,
    "pycharm": {
     "name": "#%%\n"
    }
   }
  },
  {
   "cell_type": "code",
   "execution_count": 16,
   "outputs": [],
   "source": [
    "from sklearn.model_selection import train_test_split\n",
    "\n",
    "X_train, X_test, y_train, y_test = train_test_split(df['Tweet'],df['target'])"
   ],
   "metadata": {
    "collapsed": false,
    "pycharm": {
     "name": "#%%\n"
    }
   }
  },
  {
   "cell_type": "code",
   "execution_count": 17,
   "outputs": [
    {
     "data": {
      "text/plain": "0       Dorian Gray with Rainbow Scarf #LoveWins (from...\n1       @SelectShowcase @Tate_StIves ... Replace with ...\n2       @Sofabsports thank you for following me back. ...\n3       @britishmuseum @TudorHistory What a beautiful ...\n4       @NationalGallery @ThePoldarkian I have always ...\n                              ...                        \n3020    @britishmuseum 2000 coins per day...they didn'...\n3036    From 12pm on @BBCCambs we preview #CastleHillO...\n3043    @BullDeborah @britishmuseum read Jo Nye's book...\n3077    @_TheWhitechapel @Campaignforwool @SlowTextile...\n3082    @NationalGallery The 2nd GENOCIDE against #Bia...\nName: Tweet, Length: 752, dtype: object"
     },
     "execution_count": 17,
     "metadata": {},
     "output_type": "execute_result"
    }
   ],
   "source": [
    "df['Tweet']"
   ],
   "metadata": {
    "collapsed": false,
    "pycharm": {
     "name": "#%%\n"
    }
   }
  },
  {
   "cell_type": "code",
   "execution_count": 18,
   "outputs": [
    {
     "data": {
      "text/plain": "395     @MarcusRomer @kettlesyard @andrewnairne The tr...\n1019    BAME applicants esp welcome for 1 year cultura...\n731     One of the most beautiful Places in London: @N...\n925     @NationalGallery This is one of my favourite p...\n551     This looks great, so hard to decide which day ...\n246     #Cambridge will not be the same for my next vi...\n494     https://t.co/KIfbjFNcZV we're hiring a new Dev...\n241     @_TheRowanTree_ Thank you. Have a lovely weeke...\n476     Fantastic closing exhibition @kettlesyard prov...\n543     @tateliverpool Great stuff! I'll be there ASAP...\nName: Tweet, dtype: object"
     },
     "execution_count": 18,
     "metadata": {},
     "output_type": "execute_result"
    }
   ],
   "source": [
    "X_train[:10]"
   ],
   "metadata": {
    "collapsed": false,
    "pycharm": {
     "name": "#%%\n"
    }
   }
  },
  {
   "cell_type": "code",
   "execution_count": 19,
   "outputs": [
    {
     "data": {
      "text/plain": "395     6\n1019    6\n731     3\n925     3\n551     3\n246     3\n494     6\n241     3\n476     3\n543     3\nName: target, dtype: int64"
     },
     "execution_count": 19,
     "metadata": {},
     "output_type": "execute_result"
    }
   ],
   "source": [
    "y_train[:10]"
   ],
   "metadata": {
    "collapsed": false,
    "pycharm": {
     "name": "#%%\n"
    }
   }
  },
  {
   "cell_type": "code",
   "execution_count": 20,
   "outputs": [
    {
     "data": {
      "text/plain": "395     @MarcusRomer @kettlesyard @andrewnairne The tr...\n1019    BAME applicants esp welcome for 1 year cultura...\n731     One of the most beautiful Places in London: @N...\n925     @NationalGallery This is one of my favourite p...\nName: Tweet, dtype: object"
     },
     "execution_count": 20,
     "metadata": {},
     "output_type": "execute_result"
    }
   ],
   "source": [
    "X_train.head(4)"
   ],
   "metadata": {
    "collapsed": false,
    "pycharm": {
     "name": "#%%\n"
    }
   }
  },
  {
   "cell_type": "code",
   "execution_count": 21,
   "outputs": [
    {
     "name": "stderr",
     "output_type": "stream",
     "text": [
      "2022-07-06 14:14:32.501834: I tensorflow/stream_executor/cuda/cuda_gpu_executor.cc:975] successful NUMA node read from SysFS had negative value (-1), but there must be at least one NUMA node, so returning NUMA node zero\n",
      "2022-07-06 14:14:32.502090: W tensorflow/stream_executor/platform/default/dso_loader.cc:64] Could not load dynamic library 'libcudart.so.11.0'; dlerror: libcudart.so.11.0: cannot open shared object file: No such file or directory\n",
      "2022-07-06 14:14:32.502148: W tensorflow/stream_executor/platform/default/dso_loader.cc:64] Could not load dynamic library 'libcublas.so.11'; dlerror: libcublas.so.11: cannot open shared object file: No such file or directory\n",
      "2022-07-06 14:14:32.502191: W tensorflow/stream_executor/platform/default/dso_loader.cc:64] Could not load dynamic library 'libcublasLt.so.11'; dlerror: libcublasLt.so.11: cannot open shared object file: No such file or directory\n",
      "2022-07-06 14:14:32.502237: W tensorflow/stream_executor/platform/default/dso_loader.cc:64] Could not load dynamic library 'libcufft.so.10'; dlerror: libcufft.so.10: cannot open shared object file: No such file or directory\n",
      "2022-07-06 14:14:32.502278: W tensorflow/stream_executor/platform/default/dso_loader.cc:64] Could not load dynamic library 'libcurand.so.10'; dlerror: libcurand.so.10: cannot open shared object file: No such file or directory\n",
      "2022-07-06 14:14:32.502318: W tensorflow/stream_executor/platform/default/dso_loader.cc:64] Could not load dynamic library 'libcusolver.so.11'; dlerror: libcusolver.so.11: cannot open shared object file: No such file or directory\n",
      "2022-07-06 14:14:32.502358: W tensorflow/stream_executor/platform/default/dso_loader.cc:64] Could not load dynamic library 'libcusparse.so.11'; dlerror: libcusparse.so.11: cannot open shared object file: No such file or directory\n",
      "2022-07-06 14:14:32.502397: W tensorflow/stream_executor/platform/default/dso_loader.cc:64] Could not load dynamic library 'libcudnn.so.8'; dlerror: libcudnn.so.8: cannot open shared object file: No such file or directory\n",
      "2022-07-06 14:14:32.502404: W tensorflow/core/common_runtime/gpu/gpu_device.cc:1850] Cannot dlopen some GPU libraries. Please make sure the missing libraries mentioned above are installed properly if you would like to use GPU. Follow the guide at https://www.tensorflow.org/install/gpu for how to download and setup the required libraries for your platform.\n",
      "Skipping registering GPU devices...\n",
      "2022-07-06 14:14:32.502612: I tensorflow/core/platform/cpu_feature_guard.cc:193] This TensorFlow binary is optimized with oneAPI Deep Neural Network Library (oneDNN) to use the following CPU instructions in performance-critical operations:  AVX2 FMA\n",
      "To enable them in other operations, rebuild TensorFlow with the appropriate compiler flags.\n"
     ]
    }
   ],
   "source": [
    "bert_preprocess = hub.KerasLayer(\"https://tfhub.dev/tensorflow/bert_en_uncased_preprocess/3\")\n",
    "bert_encoder = hub.KerasLayer(\"https://tfhub.dev/tensorflow/bert_en_uncased_L-12_H-768_A-12/4\")"
   ],
   "metadata": {
    "collapsed": false,
    "pycharm": {
     "name": "#%%\n"
    }
   }
  },
  {
   "cell_type": "code",
   "execution_count": 22,
   "outputs": [
    {
     "data": {
      "text/plain": "<tf.Tensor: shape=(2, 768), dtype=float32, numpy=\narray([[-0.84351707, -0.51327276, -0.8884572 , ..., -0.7474888 ,\n        -0.7531474 ,  0.91964495],\n       [-0.8720837 , -0.5054399 , -0.9444668 , ..., -0.8584752 ,\n        -0.71745366,  0.8808299 ]], dtype=float32)>"
     },
     "execution_count": 22,
     "metadata": {},
     "output_type": "execute_result"
    }
   ],
   "source": [
    "def get_sentence_embeding(sentences):\n",
    "    preprocessed_text = bert_preprocess(sentences)\n",
    "    return bert_encoder(preprocessed_text)['pooled_output']\n",
    "\n",
    "get_sentence_embeding([\n",
    "    \"500$ discount. hurry up\",\n",
    "    \"Bhavin, are you up for a volleybal game tomorrow?\"]\n",
    ")"
   ],
   "metadata": {
    "collapsed": false,
    "pycharm": {
     "name": "#%%\n"
    }
   }
  },
  {
   "cell_type": "code",
   "execution_count": 22,
   "outputs": [],
   "source": [],
   "metadata": {
    "collapsed": false,
    "pycharm": {
     "name": "#%%\n"
    }
   }
  },
  {
   "cell_type": "code",
   "execution_count": 23,
   "outputs": [],
   "source": [
    "y_train=pd.get_dummies(y_train)"
   ],
   "metadata": {
    "collapsed": false,
    "pycharm": {
     "name": "#%%\n"
    }
   }
  },
  {
   "cell_type": "code",
   "execution_count": 24,
   "outputs": [],
   "source": [
    "# Bert layers\n",
    "text_input = tf.keras.layers.Input(shape=(), dtype=tf.string, name='text')\n",
    "preprocessed_text = bert_preprocess(text_input)\n",
    "outputs = bert_encoder(preprocessed_text)\n",
    "\n",
    "# Neural network layers\n",
    "l = tf.keras.layers.Dropout(0.1, name=\"dropout\")(outputs['pooled_output'])\n",
    "l = tf.keras.layers.Dense(12, activation='softmax', name=\"output\")(l)\n",
    "\n",
    "\n",
    "model = tf.keras.Model(inputs=[text_input], outputs = [l])"
   ],
   "metadata": {
    "collapsed": false,
    "pycharm": {
     "name": "#%%\n"
    }
   }
  },
  {
   "cell_type": "code",
   "execution_count": 25,
   "outputs": [
    {
     "data": {
      "text/plain": "TensorShape([None, 12])"
     },
     "execution_count": 25,
     "metadata": {},
     "output_type": "execute_result"
    }
   ],
   "source": [
    "l.shape"
   ],
   "metadata": {
    "collapsed": false,
    "pycharm": {
     "name": "#%%\n"
    }
   }
  },
  {
   "cell_type": "code",
   "execution_count": 25,
   "outputs": [],
   "source": [],
   "metadata": {
    "collapsed": false,
    "pycharm": {
     "name": "#%%\n"
    }
   }
  },
  {
   "cell_type": "code",
   "execution_count": 26,
   "outputs": [
    {
     "data": {
      "text/plain": "TensorShape([None])"
     },
     "execution_count": 26,
     "metadata": {},
     "output_type": "execute_result"
    }
   ],
   "source": [
    "text_input.shape"
   ],
   "metadata": {
    "collapsed": false,
    "pycharm": {
     "name": "#%%\n"
    }
   }
  },
  {
   "cell_type": "code",
   "execution_count": 27,
   "outputs": [
    {
     "name": "stdout",
     "output_type": "stream",
     "text": [
      "Model: \"model\"\n",
      "__________________________________________________________________________________________________\n",
      " Layer (type)                   Output Shape         Param #     Connected to                     \n",
      "==================================================================================================\n",
      " text (InputLayer)              [(None,)]            0           []                               \n",
      "                                                                                                  \n",
      " keras_layer (KerasLayer)       {'input_word_ids':   0           ['text[0][0]']                   \n",
      "                                (None, 128),                                                      \n",
      "                                 'input_type_ids':                                                \n",
      "                                (None, 128),                                                      \n",
      "                                 'input_mask': (Non                                               \n",
      "                                e, 128)}                                                          \n",
      "                                                                                                  \n",
      " keras_layer_1 (KerasLayer)     {'default': (None,   109482241   ['keras_layer[0][0]',            \n",
      "                                768),                             'keras_layer[0][1]',            \n",
      "                                 'pooled_output': (               'keras_layer[0][2]']            \n",
      "                                None, 768),                                                       \n",
      "                                 'encoder_outputs':                                               \n",
      "                                 [(None, 128, 768),                                               \n",
      "                                 (None, 128, 768),                                                \n",
      "                                 (None, 128, 768),                                                \n",
      "                                 (None, 128, 768),                                                \n",
      "                                 (None, 128, 768),                                                \n",
      "                                 (None, 128, 768),                                                \n",
      "                                 (None, 128, 768),                                                \n",
      "                                 (None, 128, 768),                                                \n",
      "                                 (None, 128, 768),                                                \n",
      "                                 (None, 128, 768),                                                \n",
      "                                 (None, 128, 768),                                                \n",
      "                                 (None, 128, 768)],                                               \n",
      "                                 'sequence_output':                                               \n",
      "                                 (None, 128, 768)}                                                \n",
      "                                                                                                  \n",
      " dropout (Dropout)              (None, 768)          0           ['keras_layer_1[0][13]']         \n",
      "                                                                                                  \n",
      " output (Dense)                 (None, 12)           9228        ['dropout[0][0]']                \n",
      "                                                                                                  \n",
      "==================================================================================================\n",
      "Total params: 109,491,469\n",
      "Trainable params: 9,228\n",
      "Non-trainable params: 109,482,241\n",
      "__________________________________________________________________________________________________\n"
     ]
    }
   ],
   "source": [
    "model.summary()"
   ],
   "metadata": {
    "collapsed": false,
    "pycharm": {
     "name": "#%%\n"
    }
   }
  },
  {
   "cell_type": "code",
   "execution_count": 28,
   "outputs": [
    {
     "data": {
      "text/plain": "TensorShape([None, 768])"
     },
     "execution_count": 28,
     "metadata": {},
     "output_type": "execute_result"
    }
   ],
   "source": [
    "outputs['pooled_output'].shape"
   ],
   "metadata": {
    "collapsed": false,
    "pycharm": {
     "name": "#%%\n"
    }
   }
  },
  {
   "cell_type": "code",
   "execution_count": 29,
   "outputs": [
    {
     "data": {
      "text/plain": "564"
     },
     "execution_count": 29,
     "metadata": {},
     "output_type": "execute_result"
    }
   ],
   "source": [
    "len(X_train)"
   ],
   "metadata": {
    "collapsed": false,
    "pycharm": {
     "name": "#%%\n"
    }
   }
  },
  {
   "cell_type": "code",
   "execution_count": 30,
   "outputs": [],
   "source": [
    "METRICS = [\n",
    "      tf.keras.metrics.CategoricalCrossentropy(name='accuracy'),\n",
    "      tf.keras.metrics.Precision(name='precision'),\n",
    "      tf.keras.metrics.Recall(name='recall')\n",
    "]\n",
    "\n",
    "model.compile(optimizer='adam',\n",
    "              loss='categorical_crossentropy',\n",
    "              metrics=METRICS)"
   ],
   "metadata": {
    "collapsed": false,
    "pycharm": {
     "name": "#%%\n"
    }
   }
  },
  {
   "cell_type": "code",
   "execution_count": 30,
   "outputs": [],
   "source": [],
   "metadata": {
    "collapsed": false,
    "pycharm": {
     "name": "#%%\n"
    }
   }
  },
  {
   "cell_type": "code",
   "execution_count": 30,
   "outputs": [],
   "source": [],
   "metadata": {
    "collapsed": false,
    "pycharm": {
     "name": "#%%\n"
    }
   }
  },
  {
   "cell_type": "code",
   "execution_count": 31,
   "outputs": [
    {
     "name": "stdout",
     "output_type": "stream",
     "text": [
      "Epoch 1/10\n",
      "18/18 [==============================] - 52s 3s/step - loss: 1.8484 - accuracy: 1.8484 - precision: 0.4583 - recall: 0.2926\n",
      "Epoch 2/10\n",
      "18/18 [==============================] - 48s 3s/step - loss: 1.4683 - accuracy: 1.4683 - precision: 0.4654 - recall: 0.2145\n",
      "Epoch 3/10\n",
      "18/18 [==============================] - 48s 3s/step - loss: 1.4463 - accuracy: 1.4463 - precision: 0.5113 - recall: 0.3209\n",
      "Epoch 4/10\n",
      "18/18 [==============================] - 48s 3s/step - loss: 1.4073 - accuracy: 1.4073 - precision: 0.5470 - recall: 0.3404\n",
      "Epoch 5/10\n",
      "18/18 [==============================] - 50s 3s/step - loss: 1.3720 - accuracy: 1.3720 - precision: 0.5607 - recall: 0.2784\n",
      "Epoch 6/10\n",
      "18/18 [==============================] - 51s 3s/step - loss: 1.3952 - accuracy: 1.3952 - precision: 0.5526 - recall: 0.3262\n",
      "Epoch 7/10\n",
      "18/18 [==============================] - 50s 3s/step - loss: 1.3560 - accuracy: 1.3560 - precision: 0.5922 - recall: 0.3245\n",
      "Epoch 8/10\n",
      "18/18 [==============================] - 50s 3s/step - loss: 1.3685 - accuracy: 1.3685 - precision: 0.5836 - recall: 0.3280\n",
      "Epoch 9/10\n",
      "18/18 [==============================] - 53s 3s/step - loss: 1.3855 - accuracy: 1.3855 - precision: 0.5227 - recall: 0.3262\n",
      "Epoch 10/10\n",
      "18/18 [==============================] - 50s 3s/step - loss: 1.3071 - accuracy: 1.3071 - precision: 0.6033 - recall: 0.3936\n"
     ]
    },
    {
     "data": {
      "text/plain": "<keras.callbacks.History at 0x7fa559d0f4c0>"
     },
     "execution_count": 31,
     "metadata": {},
     "output_type": "execute_result"
    }
   ],
   "source": [
    "model.fit(X_train, y_train.values, epochs=10)"
   ],
   "metadata": {
    "collapsed": false,
    "pycharm": {
     "name": "#%%\n"
    }
   }
  },
  {
   "cell_type": "code",
   "execution_count": 36,
   "outputs": [],
   "source": [
    "#y_test=pd.get_dummies(y_test)"
   ],
   "metadata": {
    "collapsed": false,
    "pycharm": {
     "name": "#%%\n"
    }
   }
  },
  {
   "cell_type": "code",
   "execution_count": null,
   "outputs": [],
   "source": [
    "X_test"
   ],
   "metadata": {
    "collapsed": false,
    "pycharm": {
     "name": "#%%\n"
    }
   }
  },
  {
   "cell_type": "code",
   "execution_count": 38,
   "outputs": [
    {
     "name": "stdout",
     "output_type": "stream",
     "text": [
      "18/18 [==============================] - 49s 3s/step - loss: 1.2412 - accuracy: 1.2412 - precision: 0.7609 - recall: 0.3723\n"
     ]
    },
    {
     "data": {
      "text/plain": "[1.2412008047103882, 1.2412008047103882, 0.760869562625885, 0.3723404109477997]"
     },
     "execution_count": 38,
     "metadata": {},
     "output_type": "execute_result"
    }
   ],
   "source": [
    "model.evaluate(X_train, y_train)"
   ],
   "metadata": {
    "collapsed": false,
    "pycharm": {
     "name": "#%%\n"
    }
   }
  },
  {
   "cell_type": "code",
   "execution_count": 33,
   "outputs": [
    {
     "data": {
      "text/plain": "(564, 12)"
     },
     "execution_count": 33,
     "metadata": {},
     "output_type": "execute_result"
    }
   ],
   "source": [
    "y_train.shape"
   ],
   "metadata": {
    "collapsed": false,
    "pycharm": {
     "name": "#%%\n"
    }
   }
  },
  {
   "cell_type": "code",
   "execution_count": 40,
   "outputs": [],
   "source": [
    "import pickle\n",
    "pickle.dump(encoder, open('vectorizer.pkl', 'wb'))"
   ],
   "metadata": {
    "collapsed": false,
    "pycharm": {
     "name": "#%%\n"
    }
   }
  },
  {
   "cell_type": "code",
   "execution_count": 39,
   "outputs": [
    {
     "name": "stdout",
     "output_type": "stream",
     "text": [
      "1/1 [==============================] - 1s 1s/step\n"
     ]
    },
    {
     "data": {
      "text/plain": "array([[0.07234751, 0.01338999, 0.02330925, 0.49142125, 0.01750292,\n        0.02490195, 0.28367624, 0.02092175, 0.00424872, 0.00550982,\n        0.00346939, 0.03930122],\n       [0.06440988, 0.00814942, 0.0116381 , 0.5242965 , 0.01188821,\n        0.01455515, 0.29586887, 0.02496774, 0.00294843, 0.00293761,\n        0.00209301, 0.03624712],\n       [0.06977595, 0.00944616, 0.01868216, 0.46128434, 0.01261424,\n        0.01611044, 0.34744197, 0.02273434, 0.0029377 , 0.00258092,\n        0.00220985, 0.0341819 ],\n       [0.04181352, 0.00882281, 0.01265987, 0.6359902 , 0.01438443,\n        0.02411605, 0.16625857, 0.03051194, 0.00331904, 0.00307084,\n        0.00156977, 0.05748285],\n       [0.05666604, 0.00733487, 0.01064028, 0.6282611 , 0.01212199,\n        0.02181256, 0.17469585, 0.03968202, 0.00335515, 0.0020909 ,\n        0.00135439, 0.04198488]], dtype=float32)"
     },
     "execution_count": 39,
     "metadata": {},
     "output_type": "execute_result"
    }
   ],
   "source": [],
   "metadata": {
    "collapsed": false,
    "pycharm": {
     "name": "#%%\n"
    }
   }
  },
  {
   "cell_type": "code",
   "execution_count": 41,
   "outputs": [
    {
     "name": "stderr",
     "output_type": "stream",
     "text": [
      "WARNING:absl:Found untraced functions such as restored_function_body, restored_function_body, restored_function_body, restored_function_body, restored_function_body while saving (showing 5 of 366). These functions will not be directly callable after loading.\n"
     ]
    },
    {
     "name": "stdout",
     "output_type": "stream",
     "text": [
      "INFO:tensorflow:Assets written to: ram://16326b54-a299-4f0f-88af-bcb37c069aaf/assets\n"
     ]
    },
    {
     "name": "stderr",
     "output_type": "stream",
     "text": [
      "INFO:tensorflow:Assets written to: ram://16326b54-a299-4f0f-88af-bcb37c069aaf/assets\n"
     ]
    }
   ],
   "source": [
    "pickle.dump(model, open('model.pkl', 'wb'))"
   ],
   "metadata": {
    "collapsed": false,
    "pycharm": {
     "name": "#%%\n"
    }
   }
  },
  {
   "cell_type": "code",
   "execution_count": 57,
   "outputs": [
    {
     "name": "stdout",
     "output_type": "stream",
     "text": [
      "1/1 [==============================] - 0s 234ms/step\n"
     ]
    }
   ],
   "source": [
    "result2 = model.predict([\"Fantastic @johnmcdonnellMP standing up for workers @NationalGallery #noprivatisation while @edvaizey sits on fence! http://t.co/QzBYpUAtQt\"])"
   ],
   "metadata": {
    "collapsed": false,
    "pycharm": {
     "name": "#%%\n"
    }
   }
  },
  {
   "cell_type": "code",
   "execution_count": 58,
   "outputs": [
    {
     "name": "stdout",
     "output_type": "stream",
     "text": [
      "3\n"
     ]
    }
   ],
   "source": [
    "print(result2.argmax())"
   ],
   "metadata": {
    "collapsed": false,
    "pycharm": {
     "name": "#%%\n"
    }
   }
  },
  {
   "cell_type": "code",
   "execution_count": 61,
   "outputs": [
    {
     "name": "stdout",
     "output_type": "stream",
     "text": [
      "6/6 [==============================] - 18s 3s/step\n"
     ]
    }
   ],
   "source": [
    "pred1 = model.predict(X_test)"
   ],
   "metadata": {
    "collapsed": false,
    "pycharm": {
     "name": "#%%\n"
    }
   }
  },
  {
   "cell_type": "code",
   "execution_count": 62,
   "outputs": [
    {
     "ename": "AttributeError",
     "evalue": "'Functional' object has no attribute 'score'",
     "output_type": "error",
     "traceback": [
      "\u001B[0;31m---------------------------------------------------------------------------\u001B[0m",
      "\u001B[0;31mAttributeError\u001B[0m                            Traceback (most recent call last)",
      "Input \u001B[0;32mIn [62]\u001B[0m, in \u001B[0;36m<cell line: 1>\u001B[0;34m()\u001B[0m\n\u001B[0;32m----> 1\u001B[0m \u001B[43mmodel\u001B[49m\u001B[38;5;241;43m.\u001B[39;49m\u001B[43mscore\u001B[49m(pred1, y_test)\n",
      "\u001B[0;31mAttributeError\u001B[0m: 'Functional' object has no attribute 'score'"
     ]
    }
   ],
   "source": [
    "model.score(pred1, y_test)"
   ],
   "metadata": {
    "collapsed": false,
    "pycharm": {
     "name": "#%%\n"
    }
   }
  },
  {
   "cell_type": "code",
   "execution_count": 65,
   "outputs": [],
   "source": [
    "predictions = [i.argmax() for i in pred1]"
   ],
   "metadata": {
    "collapsed": false,
    "pycharm": {
     "name": "#%%\n"
    }
   }
  },
  {
   "cell_type": "code",
   "execution_count": 66,
   "outputs": [
    {
     "data": {
      "text/plain": "[3,\n 3,\n 3,\n 3,\n 3,\n 3,\n 3,\n 3,\n 3,\n 3,\n 3,\n 3,\n 3,\n 3,\n 3,\n 3,\n 3,\n 3,\n 3,\n 3,\n 3,\n 3,\n 3,\n 3,\n 3,\n 3,\n 3,\n 3,\n 3,\n 3,\n 3,\n 3,\n 3,\n 3,\n 3,\n 3,\n 3,\n 6,\n 3,\n 3,\n 3,\n 3,\n 3,\n 3,\n 3,\n 3,\n 3,\n 3,\n 3,\n 3,\n 3,\n 3,\n 3,\n 3,\n 3,\n 3,\n 3,\n 3,\n 3,\n 3,\n 3,\n 3,\n 6,\n 6,\n 6,\n 3,\n 3,\n 3,\n 6,\n 3,\n 3,\n 3,\n 3,\n 6,\n 3,\n 3,\n 6,\n 6,\n 3,\n 3,\n 3,\n 3,\n 3,\n 3,\n 3,\n 3,\n 3,\n 3,\n 3,\n 3,\n 3,\n 3,\n 3,\n 3,\n 3,\n 3,\n 3,\n 3,\n 3,\n 3,\n 3,\n 3,\n 3,\n 6,\n 3,\n 3,\n 3,\n 3,\n 3,\n 3,\n 3,\n 6,\n 3,\n 6,\n 3,\n 3,\n 3,\n 3,\n 3,\n 3,\n 3,\n 3,\n 3,\n 3,\n 3,\n 3,\n 3,\n 3,\n 3,\n 3,\n 3,\n 3,\n 3,\n 6,\n 3,\n 3,\n 3,\n 3,\n 3,\n 3,\n 6,\n 3,\n 3,\n 3,\n 6,\n 3,\n 3,\n 3,\n 3,\n 3,\n 3,\n 3,\n 3,\n 3,\n 3,\n 3,\n 3,\n 3,\n 3,\n 3,\n 3,\n 3,\n 3,\n 3,\n 3,\n 3,\n 6,\n 3,\n 3,\n 3,\n 3,\n 3,\n 3,\n 3,\n 6,\n 3,\n 3,\n 3,\n 6,\n 6,\n 3,\n 3,\n 3,\n 6,\n 3,\n 3,\n 3,\n 3]"
     },
     "execution_count": 66,
     "metadata": {},
     "output_type": "execute_result"
    }
   ],
   "source": [
    "predictions"
   ],
   "metadata": {
    "collapsed": false,
    "pycharm": {
     "name": "#%%\n"
    }
   }
  },
  {
   "cell_type": "code",
   "execution_count": 1,
   "outputs": [
    {
     "ename": "NameError",
     "evalue": "name 'y_test' is not defined",
     "output_type": "error",
     "traceback": [
      "\u001B[0;31m---------------------------------------------------------------------------\u001B[0m",
      "\u001B[0;31mNameError\u001B[0m                                 Traceback (most recent call last)",
      "Input \u001B[0;32mIn [1]\u001B[0m, in \u001B[0;36m<cell line: 1>\u001B[0;34m()\u001B[0m\n\u001B[0;32m----> 1\u001B[0m \u001B[43my_test\u001B[49m\n",
      "\u001B[0;31mNameError\u001B[0m: name 'y_test' is not defined"
     ]
    }
   ],
   "source": [
    "y_test"
   ],
   "metadata": {
    "collapsed": false,
    "pycharm": {
     "name": "#%%\n"
    }
   }
  },
  {
   "cell_type": "code",
   "execution_count": null,
   "outputs": [],
   "source": [],
   "metadata": {
    "collapsed": false,
    "pycharm": {
     "name": "#%%\n"
    }
   }
  }
 ],
 "metadata": {
  "kernelspec": {
   "display_name": "Python 3",
   "language": "python",
   "name": "python3"
  },
  "language_info": {
   "codemirror_mode": {
    "name": "ipython",
    "version": 2
   },
   "file_extension": ".py",
   "mimetype": "text/x-python",
   "name": "python",
   "nbconvert_exporter": "python",
   "pygments_lexer": "ipython2",
   "version": "2.7.6"
  }
 },
 "nbformat": 4,
 "nbformat_minor": 0
}